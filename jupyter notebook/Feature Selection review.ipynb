{
 "cells": [
  {
   "cell_type": "markdown",
   "metadata": {},
   "source": [
    "## 차원의 저주(The Curse of Dimensionality)\n",
    "데이터 학습을 위해 차원이 증가하면서 학습데이터 수가 차원의 수보다 적어져 성능이 저하되는 현상<br>\n",
    "→ 즉, 차원(=변수)이 증가함에 따라 모델의 성능이 안좋아지는 현상 (관측치 수 << 변수의 수)\n",
    "\n",
    "### *차원 축소 방법 : 1. Feature Selection / 2. Feature Extractration*\n",
    "\n",
    "### Feature Selection\n",
    "모델에 사용하기 위한 Feature들을 선택하는 과정 → 주로 정형 데이터\n",
    "```\n",
    "(최적의 feature 집합을 구하기 위한 모든 경우의 수는 2^n-1 이므로 feature가 많아질수록 너무 많은 경우의 수가 생기기 때문에 현실적으로 사용하기는 어려움)\n",
    "```\n",
    "\n",
    "#### benefits of feature selection\n",
    "1. Reduces Overfitting\n",
    "2. Improves Accuracy\n",
    "3. Reduces Training Time\n",
    "\n",
    "#### feature selection 방법\n",
    "1. Filter methods : 통계분석이 모델의 성능과 직결되지 않기 때문에 이 결과가 모두 적합하다고 할 수 없다..<br>\n",
    "    1) information gain<br>\n",
    "    2) chi-square test<br>\n",
    "    3) fisher score<br>\n",
    "    4) correlation coefficient<br>\n",
    "    5) variance threshold\n",
    "2. Wrapper methods : 모델을 사용하여 성능 측면에서 가장 좋은 성능의 feature를 뽑아내는 방법 → 시간&비용이 오래걸림..<br>\n",
    "    1) Forward selection : 가장 중요한 feature부터 추가하며 성능 비교<br>\n",
    "    2) Backward selection<br>\n",
    "    3) stepwise selection\n",
    "3. Embedded methods : feature importance를 기반으로 한 feature 선택<br>\n",
    "    다른 모델의 feature 선택의 전처리 단계로 활용 가능 & 한번에 모든 feature 고려<br>\n",
    "    → 시간 증가, 성능 향상 (과적합을 줄이기 위해 내부적으로 penalty를 주는 방법)<br>\n",
    "    1) Lasso<br>\n",
    "    2) Ridge\n",
    "\n",
    "### + Feature Extractration\n",
    "데이터들의 특징 조합을 통하여 새로운 특징을 만들어 내는 것 → 주로 비정형 데이터(text 등)\n",
    "\n",
    "feature extraction 방법\n",
    "1. Linear methods<br>\n",
    "    1) PCA(Principal Component Analysis)<br>\n",
    "    2) LDA(Linear Discriminant Analysis)\n",
    "2. Non-linear methods<br>\n",
    "    1) AE(Auto Encoder)<br>\n",
    "    2) t-SNE\n"
   ]
  },
  {
   "cell_type": "code",
   "execution_count": 1,
   "metadata": {},
   "outputs": [],
   "source": [
    "import pandas as pd\n",
    "import numpy as np\n",
    "import matplotlib.pyplot as plt\n",
    "import seaborn as sns\n",
    "from sklearn.model_selection import train_test_split\n",
    "from sklearn.metrics import accuracy_score, precision_score, recall_score, roc_auc_score\n",
    "from sklearn.metrics import f1_score, confusion_matrix, precision_recall_curve, roc_curve\n",
    "from sklearn.linear_model import LogisticRegression"
   ]
  },
  {
   "cell_type": "markdown",
   "metadata": {},
   "source": [
    "# Data\n"
   ]
  },
  {
   "cell_type": "markdown",
   "metadata": {},
   "source": [
    "위스콘신 유방암 진단 데이터<br>\n",
    "세포에 대한 정보 (radius:반경, texture:질감, perimeter:둘레, 등..)<br>\n",
    "class: 클래스 결정 값 (0(악성) 또는 1(양성))"
   ]
  },
  {
   "cell_type": "code",
   "execution_count": 2,
   "metadata": {},
   "outputs": [],
   "source": [
    "from sklearn.datasets import load_breast_cancer\n",
    "data = load_breast_cancer()\n",
    "df = pd.DataFrame(data.data, columns=data.feature_names)\n",
    "df['class'] = data.target"
   ]
  },
  {
   "cell_type": "code",
   "execution_count": 3,
   "metadata": {},
   "outputs": [
    {
     "data": {
      "text/html": [
       "<div>\n",
       "<style scoped>\n",
       "    .dataframe tbody tr th:only-of-type {\n",
       "        vertical-align: middle;\n",
       "    }\n",
       "\n",
       "    .dataframe tbody tr th {\n",
       "        vertical-align: top;\n",
       "    }\n",
       "\n",
       "    .dataframe thead th {\n",
       "        text-align: right;\n",
       "    }\n",
       "</style>\n",
       "<table border=\"1\" class=\"dataframe\">\n",
       "  <thead>\n",
       "    <tr style=\"text-align: right;\">\n",
       "      <th></th>\n",
       "      <th>mean radius</th>\n",
       "      <th>mean texture</th>\n",
       "      <th>mean perimeter</th>\n",
       "      <th>mean area</th>\n",
       "      <th>mean smoothness</th>\n",
       "      <th>mean compactness</th>\n",
       "      <th>mean concavity</th>\n",
       "      <th>mean concave points</th>\n",
       "      <th>mean symmetry</th>\n",
       "      <th>mean fractal dimension</th>\n",
       "      <th>...</th>\n",
       "      <th>worst texture</th>\n",
       "      <th>worst perimeter</th>\n",
       "      <th>worst area</th>\n",
       "      <th>worst smoothness</th>\n",
       "      <th>worst compactness</th>\n",
       "      <th>worst concavity</th>\n",
       "      <th>worst concave points</th>\n",
       "      <th>worst symmetry</th>\n",
       "      <th>worst fractal dimension</th>\n",
       "      <th>class</th>\n",
       "    </tr>\n",
       "  </thead>\n",
       "  <tbody>\n",
       "    <tr>\n",
       "      <th>0</th>\n",
       "      <td>17.99</td>\n",
       "      <td>10.38</td>\n",
       "      <td>122.80</td>\n",
       "      <td>1001.0</td>\n",
       "      <td>0.11840</td>\n",
       "      <td>0.27760</td>\n",
       "      <td>0.3001</td>\n",
       "      <td>0.14710</td>\n",
       "      <td>0.2419</td>\n",
       "      <td>0.07871</td>\n",
       "      <td>...</td>\n",
       "      <td>17.33</td>\n",
       "      <td>184.60</td>\n",
       "      <td>2019.0</td>\n",
       "      <td>0.1622</td>\n",
       "      <td>0.6656</td>\n",
       "      <td>0.7119</td>\n",
       "      <td>0.2654</td>\n",
       "      <td>0.4601</td>\n",
       "      <td>0.11890</td>\n",
       "      <td>0</td>\n",
       "    </tr>\n",
       "    <tr>\n",
       "      <th>1</th>\n",
       "      <td>20.57</td>\n",
       "      <td>17.77</td>\n",
       "      <td>132.90</td>\n",
       "      <td>1326.0</td>\n",
       "      <td>0.08474</td>\n",
       "      <td>0.07864</td>\n",
       "      <td>0.0869</td>\n",
       "      <td>0.07017</td>\n",
       "      <td>0.1812</td>\n",
       "      <td>0.05667</td>\n",
       "      <td>...</td>\n",
       "      <td>23.41</td>\n",
       "      <td>158.80</td>\n",
       "      <td>1956.0</td>\n",
       "      <td>0.1238</td>\n",
       "      <td>0.1866</td>\n",
       "      <td>0.2416</td>\n",
       "      <td>0.1860</td>\n",
       "      <td>0.2750</td>\n",
       "      <td>0.08902</td>\n",
       "      <td>0</td>\n",
       "    </tr>\n",
       "    <tr>\n",
       "      <th>2</th>\n",
       "      <td>19.69</td>\n",
       "      <td>21.25</td>\n",
       "      <td>130.00</td>\n",
       "      <td>1203.0</td>\n",
       "      <td>0.10960</td>\n",
       "      <td>0.15990</td>\n",
       "      <td>0.1974</td>\n",
       "      <td>0.12790</td>\n",
       "      <td>0.2069</td>\n",
       "      <td>0.05999</td>\n",
       "      <td>...</td>\n",
       "      <td>25.53</td>\n",
       "      <td>152.50</td>\n",
       "      <td>1709.0</td>\n",
       "      <td>0.1444</td>\n",
       "      <td>0.4245</td>\n",
       "      <td>0.4504</td>\n",
       "      <td>0.2430</td>\n",
       "      <td>0.3613</td>\n",
       "      <td>0.08758</td>\n",
       "      <td>0</td>\n",
       "    </tr>\n",
       "    <tr>\n",
       "      <th>3</th>\n",
       "      <td>11.42</td>\n",
       "      <td>20.38</td>\n",
       "      <td>77.58</td>\n",
       "      <td>386.1</td>\n",
       "      <td>0.14250</td>\n",
       "      <td>0.28390</td>\n",
       "      <td>0.2414</td>\n",
       "      <td>0.10520</td>\n",
       "      <td>0.2597</td>\n",
       "      <td>0.09744</td>\n",
       "      <td>...</td>\n",
       "      <td>26.50</td>\n",
       "      <td>98.87</td>\n",
       "      <td>567.7</td>\n",
       "      <td>0.2098</td>\n",
       "      <td>0.8663</td>\n",
       "      <td>0.6869</td>\n",
       "      <td>0.2575</td>\n",
       "      <td>0.6638</td>\n",
       "      <td>0.17300</td>\n",
       "      <td>0</td>\n",
       "    </tr>\n",
       "    <tr>\n",
       "      <th>4</th>\n",
       "      <td>20.29</td>\n",
       "      <td>14.34</td>\n",
       "      <td>135.10</td>\n",
       "      <td>1297.0</td>\n",
       "      <td>0.10030</td>\n",
       "      <td>0.13280</td>\n",
       "      <td>0.1980</td>\n",
       "      <td>0.10430</td>\n",
       "      <td>0.1809</td>\n",
       "      <td>0.05883</td>\n",
       "      <td>...</td>\n",
       "      <td>16.67</td>\n",
       "      <td>152.20</td>\n",
       "      <td>1575.0</td>\n",
       "      <td>0.1374</td>\n",
       "      <td>0.2050</td>\n",
       "      <td>0.4000</td>\n",
       "      <td>0.1625</td>\n",
       "      <td>0.2364</td>\n",
       "      <td>0.07678</td>\n",
       "      <td>0</td>\n",
       "    </tr>\n",
       "  </tbody>\n",
       "</table>\n",
       "<p>5 rows × 31 columns</p>\n",
       "</div>"
      ],
      "text/plain": [
       "   mean radius  mean texture  mean perimeter  mean area  mean smoothness  \\\n",
       "0        17.99         10.38          122.80     1001.0          0.11840   \n",
       "1        20.57         17.77          132.90     1326.0          0.08474   \n",
       "2        19.69         21.25          130.00     1203.0          0.10960   \n",
       "3        11.42         20.38           77.58      386.1          0.14250   \n",
       "4        20.29         14.34          135.10     1297.0          0.10030   \n",
       "\n",
       "   mean compactness  mean concavity  mean concave points  mean symmetry  \\\n",
       "0           0.27760          0.3001              0.14710         0.2419   \n",
       "1           0.07864          0.0869              0.07017         0.1812   \n",
       "2           0.15990          0.1974              0.12790         0.2069   \n",
       "3           0.28390          0.2414              0.10520         0.2597   \n",
       "4           0.13280          0.1980              0.10430         0.1809   \n",
       "\n",
       "   mean fractal dimension  ...  worst texture  worst perimeter  worst area  \\\n",
       "0                 0.07871  ...          17.33           184.60      2019.0   \n",
       "1                 0.05667  ...          23.41           158.80      1956.0   \n",
       "2                 0.05999  ...          25.53           152.50      1709.0   \n",
       "3                 0.09744  ...          26.50            98.87       567.7   \n",
       "4                 0.05883  ...          16.67           152.20      1575.0   \n",
       "\n",
       "   worst smoothness  worst compactness  worst concavity  worst concave points  \\\n",
       "0            0.1622             0.6656           0.7119                0.2654   \n",
       "1            0.1238             0.1866           0.2416                0.1860   \n",
       "2            0.1444             0.4245           0.4504                0.2430   \n",
       "3            0.2098             0.8663           0.6869                0.2575   \n",
       "4            0.1374             0.2050           0.4000                0.1625   \n",
       "\n",
       "   worst symmetry  worst fractal dimension  class  \n",
       "0          0.4601                  0.11890      0  \n",
       "1          0.2750                  0.08902      0  \n",
       "2          0.3613                  0.08758      0  \n",
       "3          0.6638                  0.17300      0  \n",
       "4          0.2364                  0.07678      0  \n",
       "\n",
       "[5 rows x 31 columns]"
      ]
     },
     "execution_count": 3,
     "metadata": {},
     "output_type": "execute_result"
    }
   ],
   "source": [
    "df.head()"
   ]
  },
  {
   "cell_type": "code",
   "execution_count": 4,
   "metadata": {},
   "outputs": [
    {
     "data": {
      "text/html": [
       "<div>\n",
       "<style scoped>\n",
       "    .dataframe tbody tr th:only-of-type {\n",
       "        vertical-align: middle;\n",
       "    }\n",
       "\n",
       "    .dataframe tbody tr th {\n",
       "        vertical-align: top;\n",
       "    }\n",
       "\n",
       "    .dataframe thead th {\n",
       "        text-align: right;\n",
       "    }\n",
       "</style>\n",
       "<table border=\"1\" class=\"dataframe\">\n",
       "  <thead>\n",
       "    <tr style=\"text-align: right;\">\n",
       "      <th></th>\n",
       "      <th>mean radius</th>\n",
       "    </tr>\n",
       "    <tr>\n",
       "      <th>class</th>\n",
       "      <th></th>\n",
       "    </tr>\n",
       "  </thead>\n",
       "  <tbody>\n",
       "    <tr>\n",
       "      <th>0</th>\n",
       "      <td>212</td>\n",
       "    </tr>\n",
       "    <tr>\n",
       "      <th>1</th>\n",
       "      <td>357</td>\n",
       "    </tr>\n",
       "  </tbody>\n",
       "</table>\n",
       "</div>"
      ],
      "text/plain": [
       "       mean radius\n",
       "class             \n",
       "0              212\n",
       "1              357"
      ]
     },
     "execution_count": 4,
     "metadata": {},
     "output_type": "execute_result"
    }
   ],
   "source": [
    "df.groupby('class')[['mean radius']].count()\n",
    "#label 0:1 = 1:1.7 비율"
   ]
  },
  {
   "cell_type": "code",
   "execution_count": 5,
   "metadata": {},
   "outputs": [],
   "source": [
    "def get_clf_eval(y_test, pred, pred_proba):\n",
    "    #accuracy : 전체에 대해 제대로 맞힌 비율\n",
    "    print(f'Accuracy: {accuracy_score(y_test, pred)}')\n",
    "    print(f'Confusion Matrix:\\n{confusion_matrix(y_test, pred)}')\n",
    "    #Precision(정밀도) : 병에 걸렸다고 한 환자들 중, 실제로 병에 걸린 환자의 비율 / Recall(재현율) : 병에 걸린 환자들 중, 병에 걸렸다고 분류된 환자의 비율\n",
    "    print(f'Precision: {precision_score(y_test, pred)}, Recall: {recall_score(y_test, pred)}')\n",
    "    #F1 score : 최적일 때 1 / AUC : ROC 곡선 그래프에서 곡선의 아랫부분의 넓이 -> 값이 클 수록 좋은 모델\n",
    "    print(f'F1: {f1_score(y_test, pred)}, AUC: {roc_auc_score(y_test, pred_proba)}')"
   ]
  },
  {
   "cell_type": "code",
   "execution_count": 76,
   "metadata": {},
   "outputs": [],
   "source": [
    "# 전체 feature로 modeling\n",
    "X_train, X_test, y_train, y_test, idx_train, idx_test = train_test_split(df.iloc[:, :-1].values, df['class'], df.index, test_size=0.3, random_state=99999)"
   ]
  },
  {
   "cell_type": "code",
   "execution_count": 7,
   "metadata": {},
   "outputs": [
    {
     "data": {
      "text/html": [
       "<div>\n",
       "<style scoped>\n",
       "    .dataframe tbody tr th:only-of-type {\n",
       "        vertical-align: middle;\n",
       "    }\n",
       "\n",
       "    .dataframe tbody tr th {\n",
       "        vertical-align: top;\n",
       "    }\n",
       "\n",
       "    .dataframe thead th {\n",
       "        text-align: right;\n",
       "    }\n",
       "</style>\n",
       "<table border=\"1\" class=\"dataframe\">\n",
       "  <thead>\n",
       "    <tr style=\"text-align: right;\">\n",
       "      <th></th>\n",
       "      <th>mean radius</th>\n",
       "    </tr>\n",
       "    <tr>\n",
       "      <th>class</th>\n",
       "      <th></th>\n",
       "    </tr>\n",
       "  </thead>\n",
       "  <tbody>\n",
       "    <tr>\n",
       "      <th>0</th>\n",
       "      <td>149</td>\n",
       "    </tr>\n",
       "    <tr>\n",
       "      <th>1</th>\n",
       "      <td>249</td>\n",
       "    </tr>\n",
       "  </tbody>\n",
       "</table>\n",
       "</div>"
      ],
      "text/plain": [
       "       mean radius\n",
       "class             \n",
       "0              149\n",
       "1              249"
      ]
     },
     "execution_count": 7,
     "metadata": {},
     "output_type": "execute_result"
    }
   ],
   "source": [
    "#training set\n",
    "df.iloc[idx_train, :].groupby('class')[['mean radius']].count()"
   ]
  },
  {
   "cell_type": "code",
   "execution_count": 8,
   "metadata": {},
   "outputs": [
    {
     "data": {
      "text/html": [
       "<div>\n",
       "<style scoped>\n",
       "    .dataframe tbody tr th:only-of-type {\n",
       "        vertical-align: middle;\n",
       "    }\n",
       "\n",
       "    .dataframe tbody tr th {\n",
       "        vertical-align: top;\n",
       "    }\n",
       "\n",
       "    .dataframe thead th {\n",
       "        text-align: right;\n",
       "    }\n",
       "</style>\n",
       "<table border=\"1\" class=\"dataframe\">\n",
       "  <thead>\n",
       "    <tr style=\"text-align: right;\">\n",
       "      <th></th>\n",
       "      <th>mean radius</th>\n",
       "    </tr>\n",
       "    <tr>\n",
       "      <th>class</th>\n",
       "      <th></th>\n",
       "    </tr>\n",
       "  </thead>\n",
       "  <tbody>\n",
       "    <tr>\n",
       "      <th>0</th>\n",
       "      <td>63</td>\n",
       "    </tr>\n",
       "    <tr>\n",
       "      <th>1</th>\n",
       "      <td>108</td>\n",
       "    </tr>\n",
       "  </tbody>\n",
       "</table>\n",
       "</div>"
      ],
      "text/plain": [
       "       mean radius\n",
       "class             \n",
       "0               63\n",
       "1              108"
      ]
     },
     "execution_count": 8,
     "metadata": {},
     "output_type": "execute_result"
    }
   ],
   "source": [
    "#test set\n",
    "df.iloc[idx_test, :].groupby('class')[['mean radius']].count()"
   ]
  },
  {
   "cell_type": "code",
   "execution_count": 9,
   "metadata": {},
   "outputs": [
    {
     "name": "stderr",
     "output_type": "stream",
     "text": [
      "/usr/local/lib/python3.6/site-packages/sklearn/linear_model/_logistic.py:765: ConvergenceWarning: lbfgs failed to converge (status=1):\n",
      "STOP: TOTAL NO. of ITERATIONS REACHED LIMIT.\n",
      "\n",
      "Increase the number of iterations (max_iter) or scale the data as shown in:\n",
      "    https://scikit-learn.org/stable/modules/preprocessing.html\n",
      "Please also refer to the documentation for alternative solver options:\n",
      "    https://scikit-learn.org/stable/modules/linear_model.html#logistic-regression\n",
      "  extra_warning_msg=_LOGISTIC_SOLVER_CONVERGENCE_MSG)\n"
     ]
    }
   ],
   "source": [
    "lr_clf = LogisticRegression()\n",
    "lr_clf.fit(X_train, y_train)\n",
    "pred = lr_clf.predict(X_test)\n",
    "pred_proba = lr_clf.predict_proba(X_test)[:, 1]"
   ]
  },
  {
   "cell_type": "code",
   "execution_count": 10,
   "metadata": {},
   "outputs": [
    {
     "name": "stdout",
     "output_type": "stream",
     "text": [
      "Accuracy: 0.9122807017543859\n",
      "Confusion Matrix:\n",
      "[[ 54   9]\n",
      " [  6 102]]\n",
      "Precision: 0.918918918918919, Recall: 0.9444444444444444\n",
      "F1: 0.9315068493150684, AUC: 0.9842739564961787\n"
     ]
    }
   ],
   "source": [
    "get_clf_eval(y_test, pred, pred_proba)"
   ]
  },
  {
   "cell_type": "markdown",
   "metadata": {},
   "source": [
    "→ 예측 정확도 91%, 재현율 94%"
   ]
  },
  {
   "cell_type": "markdown",
   "metadata": {},
   "source": [
    "### 1. Filter methods"
   ]
  },
  {
   "cell_type": "code",
   "execution_count": 11,
   "metadata": {},
   "outputs": [],
   "source": [
    "from sklearn.feature_selection import SelectKBest\n",
    "from sklearn.feature_selection import f_classif, f_oneway, chi2"
   ]
  },
  {
   "cell_type": "code",
   "execution_count": 12,
   "metadata": {},
   "outputs": [],
   "source": [
    "#f_classif : ANOVA F-value\n",
    "test = SelectKBest(score_func=f_classif, k=17)\n",
    "fit = test.fit(df.iloc[:, :-1], df['class'])"
   ]
  },
  {
   "cell_type": "code",
   "execution_count": 13,
   "metadata": {},
   "outputs": [
    {
     "data": {
      "text/plain": [
       "array([6.46981021e+02, 1.18096059e+02, 6.97235272e+02, 5.73060747e+02,\n",
       "       8.36511234e+01, 3.13233079e+02, 5.33793126e+02, 8.61676020e+02,\n",
       "       6.95274435e+01, 9.34592949e-02, 2.68840327e+02, 3.90947023e-02,\n",
       "       2.53897392e+02, 2.43651586e+02, 2.55796780e+00, 5.32473391e+01,\n",
       "       3.90144816e+01, 1.13262760e+02, 2.41174067e-02, 3.46827476e+00,\n",
       "       8.60781707e+02, 1.49596905e+02, 8.97944219e+02, 6.61600206e+02,\n",
       "       1.22472880e+02, 3.04341063e+02, 4.36691939e+02, 9.64385393e+02,\n",
       "       1.18860232e+02, 6.64439606e+01])"
      ]
     },
     "execution_count": 13,
     "metadata": {},
     "output_type": "execute_result"
    }
   ],
   "source": [
    "#column별 F-value (표본 평균 간 변동 / 표본 내 변동)\n",
    "fit.scores_ "
   ]
  },
  {
   "cell_type": "code",
   "execution_count": 14,
   "metadata": {},
   "outputs": [
    {
     "data": {
      "text/plain": [
       "array([ 0,  2,  3,  5,  6,  7, 10, 12, 13, 20, 21, 22, 23, 24, 25, 26, 27])"
      ]
     },
     "execution_count": 14,
     "metadata": {},
     "output_type": "execute_result"
    }
   ],
   "source": [
    "#어떤 column이 선택되었는지 보여줌..\n",
    "fit.get_support(indices=True)"
   ]
  },
  {
   "cell_type": "code",
   "execution_count": 15,
   "metadata": {},
   "outputs": [
    {
     "name": "stdout",
     "output_type": "stream",
     "text": [
      "mean radius\n",
      "mean perimeter\n",
      "mean area\n",
      "mean compactness\n",
      "mean concavity\n",
      "mean concave points\n",
      "radius error\n",
      "perimeter error\n",
      "area error\n",
      "worst radius\n",
      "worst texture\n",
      "worst perimeter\n",
      "worst area\n",
      "worst smoothness\n",
      "worst compactness\n",
      "worst concavity\n",
      "worst concave points\n"
     ]
    }
   ],
   "source": [
    "#실제로 그런지 확인..\n",
    "for i in range(len(df.columns[:-1])):\n",
    "    if [sorted(list(fit.scores_), reverse=True).index(x) for x in list(fit.scores_)][i] < 17:\n",
    "        print(df.columns[:-1][i])"
   ]
  },
  {
   "cell_type": "code",
   "execution_count": 16,
   "metadata": {},
   "outputs": [
    {
     "data": {
      "text/html": [
       "<div>\n",
       "<style scoped>\n",
       "    .dataframe tbody tr th:only-of-type {\n",
       "        vertical-align: middle;\n",
       "    }\n",
       "\n",
       "    .dataframe tbody tr th {\n",
       "        vertical-align: top;\n",
       "    }\n",
       "\n",
       "    .dataframe thead th {\n",
       "        text-align: right;\n",
       "    }\n",
       "</style>\n",
       "<table border=\"1\" class=\"dataframe\">\n",
       "  <thead>\n",
       "    <tr style=\"text-align: right;\">\n",
       "      <th></th>\n",
       "      <th>mean radius</th>\n",
       "      <th>mean perimeter</th>\n",
       "      <th>mean area</th>\n",
       "      <th>mean compactness</th>\n",
       "      <th>mean concavity</th>\n",
       "      <th>mean concave points</th>\n",
       "      <th>radius error</th>\n",
       "      <th>perimeter error</th>\n",
       "      <th>area error</th>\n",
       "      <th>worst radius</th>\n",
       "      <th>worst texture</th>\n",
       "      <th>worst perimeter</th>\n",
       "      <th>worst area</th>\n",
       "      <th>worst smoothness</th>\n",
       "      <th>worst compactness</th>\n",
       "      <th>worst concavity</th>\n",
       "      <th>worst concave points</th>\n",
       "    </tr>\n",
       "  </thead>\n",
       "  <tbody>\n",
       "    <tr>\n",
       "      <th>531</th>\n",
       "      <td>11.67</td>\n",
       "      <td>75.21</td>\n",
       "      <td>416.2</td>\n",
       "      <td>0.09453</td>\n",
       "      <td>0.04200</td>\n",
       "      <td>0.021570</td>\n",
       "      <td>0.2067</td>\n",
       "      <td>1.393</td>\n",
       "      <td>15.340</td>\n",
       "      <td>13.35</td>\n",
       "      <td>28.81</td>\n",
       "      <td>87.00</td>\n",
       "      <td>550.6</td>\n",
       "      <td>0.1550</td>\n",
       "      <td>0.29640</td>\n",
       "      <td>0.27580</td>\n",
       "      <td>0.08120</td>\n",
       "    </tr>\n",
       "    <tr>\n",
       "      <th>371</th>\n",
       "      <td>15.19</td>\n",
       "      <td>97.65</td>\n",
       "      <td>711.8</td>\n",
       "      <td>0.06934</td>\n",
       "      <td>0.03393</td>\n",
       "      <td>0.026570</td>\n",
       "      <td>0.1783</td>\n",
       "      <td>1.338</td>\n",
       "      <td>17.720</td>\n",
       "      <td>16.20</td>\n",
       "      <td>15.73</td>\n",
       "      <td>104.50</td>\n",
       "      <td>819.1</td>\n",
       "      <td>0.1126</td>\n",
       "      <td>0.17370</td>\n",
       "      <td>0.13620</td>\n",
       "      <td>0.08178</td>\n",
       "    </tr>\n",
       "    <tr>\n",
       "      <th>196</th>\n",
       "      <td>13.77</td>\n",
       "      <td>90.63</td>\n",
       "      <td>588.9</td>\n",
       "      <td>0.12670</td>\n",
       "      <td>0.13850</td>\n",
       "      <td>0.065260</td>\n",
       "      <td>0.6191</td>\n",
       "      <td>4.906</td>\n",
       "      <td>49.700</td>\n",
       "      <td>16.39</td>\n",
       "      <td>34.01</td>\n",
       "      <td>111.60</td>\n",
       "      <td>806.9</td>\n",
       "      <td>0.1737</td>\n",
       "      <td>0.31220</td>\n",
       "      <td>0.38090</td>\n",
       "      <td>0.16730</td>\n",
       "    </tr>\n",
       "    <tr>\n",
       "      <th>10</th>\n",
       "      <td>16.02</td>\n",
       "      <td>102.70</td>\n",
       "      <td>797.8</td>\n",
       "      <td>0.06669</td>\n",
       "      <td>0.03299</td>\n",
       "      <td>0.033230</td>\n",
       "      <td>0.3795</td>\n",
       "      <td>2.466</td>\n",
       "      <td>40.510</td>\n",
       "      <td>19.19</td>\n",
       "      <td>33.88</td>\n",
       "      <td>123.80</td>\n",
       "      <td>1150.0</td>\n",
       "      <td>0.1181</td>\n",
       "      <td>0.15510</td>\n",
       "      <td>0.14590</td>\n",
       "      <td>0.09975</td>\n",
       "    </tr>\n",
       "    <tr>\n",
       "      <th>142</th>\n",
       "      <td>11.43</td>\n",
       "      <td>73.66</td>\n",
       "      <td>398.0</td>\n",
       "      <td>0.09486</td>\n",
       "      <td>0.02031</td>\n",
       "      <td>0.018610</td>\n",
       "      <td>0.2843</td>\n",
       "      <td>1.937</td>\n",
       "      <td>21.380</td>\n",
       "      <td>12.78</td>\n",
       "      <td>26.76</td>\n",
       "      <td>82.66</td>\n",
       "      <td>503.0</td>\n",
       "      <td>0.1413</td>\n",
       "      <td>0.17920</td>\n",
       "      <td>0.07708</td>\n",
       "      <td>0.06402</td>\n",
       "    </tr>\n",
       "    <tr>\n",
       "      <th>...</th>\n",
       "      <td>...</td>\n",
       "      <td>...</td>\n",
       "      <td>...</td>\n",
       "      <td>...</td>\n",
       "      <td>...</td>\n",
       "      <td>...</td>\n",
       "      <td>...</td>\n",
       "      <td>...</td>\n",
       "      <td>...</td>\n",
       "      <td>...</td>\n",
       "      <td>...</td>\n",
       "      <td>...</td>\n",
       "      <td>...</td>\n",
       "      <td>...</td>\n",
       "      <td>...</td>\n",
       "      <td>...</td>\n",
       "      <td>...</td>\n",
       "    </tr>\n",
       "    <tr>\n",
       "      <th>428</th>\n",
       "      <td>11.13</td>\n",
       "      <td>70.47</td>\n",
       "      <td>381.1</td>\n",
       "      <td>0.03834</td>\n",
       "      <td>0.01369</td>\n",
       "      <td>0.013700</td>\n",
       "      <td>0.1415</td>\n",
       "      <td>0.968</td>\n",
       "      <td>9.704</td>\n",
       "      <td>11.68</td>\n",
       "      <td>20.29</td>\n",
       "      <td>74.35</td>\n",
       "      <td>421.1</td>\n",
       "      <td>0.1030</td>\n",
       "      <td>0.06219</td>\n",
       "      <td>0.04580</td>\n",
       "      <td>0.04044</td>\n",
       "    </tr>\n",
       "    <tr>\n",
       "      <th>159</th>\n",
       "      <td>10.90</td>\n",
       "      <td>68.69</td>\n",
       "      <td>366.8</td>\n",
       "      <td>0.03718</td>\n",
       "      <td>0.00309</td>\n",
       "      <td>0.006588</td>\n",
       "      <td>0.2818</td>\n",
       "      <td>1.808</td>\n",
       "      <td>18.540</td>\n",
       "      <td>12.36</td>\n",
       "      <td>18.20</td>\n",
       "      <td>78.07</td>\n",
       "      <td>470.0</td>\n",
       "      <td>0.1171</td>\n",
       "      <td>0.08294</td>\n",
       "      <td>0.01854</td>\n",
       "      <td>0.03953</td>\n",
       "    </tr>\n",
       "    <tr>\n",
       "      <th>494</th>\n",
       "      <td>13.16</td>\n",
       "      <td>84.06</td>\n",
       "      <td>538.7</td>\n",
       "      <td>0.05275</td>\n",
       "      <td>0.01800</td>\n",
       "      <td>0.012560</td>\n",
       "      <td>0.3237</td>\n",
       "      <td>2.326</td>\n",
       "      <td>26.070</td>\n",
       "      <td>14.50</td>\n",
       "      <td>28.46</td>\n",
       "      <td>95.29</td>\n",
       "      <td>648.3</td>\n",
       "      <td>0.1118</td>\n",
       "      <td>0.16460</td>\n",
       "      <td>0.07698</td>\n",
       "      <td>0.04195</td>\n",
       "    </tr>\n",
       "    <tr>\n",
       "      <th>492</th>\n",
       "      <td>18.01</td>\n",
       "      <td>118.40</td>\n",
       "      <td>1007.0</td>\n",
       "      <td>0.12890</td>\n",
       "      <td>0.11700</td>\n",
       "      <td>0.077620</td>\n",
       "      <td>0.7548</td>\n",
       "      <td>5.353</td>\n",
       "      <td>89.740</td>\n",
       "      <td>21.53</td>\n",
       "      <td>26.06</td>\n",
       "      <td>143.40</td>\n",
       "      <td>1426.0</td>\n",
       "      <td>0.1309</td>\n",
       "      <td>0.23270</td>\n",
       "      <td>0.25440</td>\n",
       "      <td>0.14890</td>\n",
       "    </tr>\n",
       "    <tr>\n",
       "      <th>331</th>\n",
       "      <td>12.98</td>\n",
       "      <td>84.52</td>\n",
       "      <td>514.0</td>\n",
       "      <td>0.11250</td>\n",
       "      <td>0.07107</td>\n",
       "      <td>0.029500</td>\n",
       "      <td>0.2684</td>\n",
       "      <td>2.465</td>\n",
       "      <td>20.650</td>\n",
       "      <td>14.42</td>\n",
       "      <td>21.95</td>\n",
       "      <td>99.21</td>\n",
       "      <td>634.3</td>\n",
       "      <td>0.1288</td>\n",
       "      <td>0.32530</td>\n",
       "      <td>0.34390</td>\n",
       "      <td>0.09858</td>\n",
       "    </tr>\n",
       "  </tbody>\n",
       "</table>\n",
       "<p>398 rows × 17 columns</p>\n",
       "</div>"
      ],
      "text/plain": [
       "     mean radius  mean perimeter  mean area  mean compactness  mean concavity  \\\n",
       "531        11.67           75.21      416.2           0.09453         0.04200   \n",
       "371        15.19           97.65      711.8           0.06934         0.03393   \n",
       "196        13.77           90.63      588.9           0.12670         0.13850   \n",
       "10         16.02          102.70      797.8           0.06669         0.03299   \n",
       "142        11.43           73.66      398.0           0.09486         0.02031   \n",
       "..           ...             ...        ...               ...             ...   \n",
       "428        11.13           70.47      381.1           0.03834         0.01369   \n",
       "159        10.90           68.69      366.8           0.03718         0.00309   \n",
       "494        13.16           84.06      538.7           0.05275         0.01800   \n",
       "492        18.01          118.40     1007.0           0.12890         0.11700   \n",
       "331        12.98           84.52      514.0           0.11250         0.07107   \n",
       "\n",
       "     mean concave points  radius error  perimeter error  area error  \\\n",
       "531             0.021570        0.2067            1.393      15.340   \n",
       "371             0.026570        0.1783            1.338      17.720   \n",
       "196             0.065260        0.6191            4.906      49.700   \n",
       "10              0.033230        0.3795            2.466      40.510   \n",
       "142             0.018610        0.2843            1.937      21.380   \n",
       "..                   ...           ...              ...         ...   \n",
       "428             0.013700        0.1415            0.968       9.704   \n",
       "159             0.006588        0.2818            1.808      18.540   \n",
       "494             0.012560        0.3237            2.326      26.070   \n",
       "492             0.077620        0.7548            5.353      89.740   \n",
       "331             0.029500        0.2684            2.465      20.650   \n",
       "\n",
       "     worst radius  worst texture  worst perimeter  worst area  \\\n",
       "531         13.35          28.81            87.00       550.6   \n",
       "371         16.20          15.73           104.50       819.1   \n",
       "196         16.39          34.01           111.60       806.9   \n",
       "10          19.19          33.88           123.80      1150.0   \n",
       "142         12.78          26.76            82.66       503.0   \n",
       "..            ...            ...              ...         ...   \n",
       "428         11.68          20.29            74.35       421.1   \n",
       "159         12.36          18.20            78.07       470.0   \n",
       "494         14.50          28.46            95.29       648.3   \n",
       "492         21.53          26.06           143.40      1426.0   \n",
       "331         14.42          21.95            99.21       634.3   \n",
       "\n",
       "     worst smoothness  worst compactness  worst concavity  \\\n",
       "531            0.1550            0.29640          0.27580   \n",
       "371            0.1126            0.17370          0.13620   \n",
       "196            0.1737            0.31220          0.38090   \n",
       "10             0.1181            0.15510          0.14590   \n",
       "142            0.1413            0.17920          0.07708   \n",
       "..                ...                ...              ...   \n",
       "428            0.1030            0.06219          0.04580   \n",
       "159            0.1171            0.08294          0.01854   \n",
       "494            0.1118            0.16460          0.07698   \n",
       "492            0.1309            0.23270          0.25440   \n",
       "331            0.1288            0.32530          0.34390   \n",
       "\n",
       "     worst concave points  \n",
       "531               0.08120  \n",
       "371               0.08178  \n",
       "196               0.16730  \n",
       "10                0.09975  \n",
       "142               0.06402  \n",
       "..                    ...  \n",
       "428               0.04044  \n",
       "159               0.03953  \n",
       "494               0.04195  \n",
       "492               0.14890  \n",
       "331               0.09858  \n",
       "\n",
       "[398 rows x 17 columns]"
      ]
     },
     "execution_count": 16,
     "metadata": {},
     "output_type": "execute_result"
    }
   ],
   "source": [
    "df[['mean radius','mean perimeter', 'mean area', 'mean compactness',\\\n",
    "'mean concavity', 'mean concave points', 'radius error',\\\n",
    "'perimeter error', 'area error', 'worst radius', 'worst texture',\\\n",
    "'worst perimeter', 'worst area', 'worst smoothness', 'worst compactness',\\\n",
    "'worst concavity', 'worst concave points']].iloc[idx_train, :]"
   ]
  },
  {
   "cell_type": "code",
   "execution_count": 17,
   "metadata": {},
   "outputs": [],
   "source": [
    "f_features = fit.transform(df.iloc[:, :-1])"
   ]
  },
  {
   "cell_type": "code",
   "execution_count": 18,
   "metadata": {},
   "outputs": [
    {
     "data": {
      "text/plain": [
       "array([[1.167e+01, 7.521e+01, 4.162e+02, ..., 2.964e-01, 2.758e-01,\n",
       "        8.120e-02],\n",
       "       [1.519e+01, 9.765e+01, 7.118e+02, ..., 1.737e-01, 1.362e-01,\n",
       "        8.178e-02],\n",
       "       [1.377e+01, 9.063e+01, 5.889e+02, ..., 3.122e-01, 3.809e-01,\n",
       "        1.673e-01],\n",
       "       ...,\n",
       "       [1.316e+01, 8.406e+01, 5.387e+02, ..., 1.646e-01, 7.698e-02,\n",
       "        4.195e-02],\n",
       "       [1.801e+01, 1.184e+02, 1.007e+03, ..., 2.327e-01, 2.544e-01,\n",
       "        1.489e-01],\n",
       "       [1.298e+01, 8.452e+01, 5.140e+02, ..., 3.253e-01, 3.439e-01,\n",
       "        9.858e-02]])"
      ]
     },
     "execution_count": 18,
     "metadata": {},
     "output_type": "execute_result"
    }
   ],
   "source": [
    "f_features[idx_train]\n",
    "#값 비교하면 동일..!"
   ]
  },
  {
   "cell_type": "markdown",
   "metadata": {},
   "source": [
    "30개의 변수 중 17개로 feature selection(f-value)"
   ]
  },
  {
   "cell_type": "code",
   "execution_count": 57,
   "metadata": {},
   "outputs": [],
   "source": [
    "#X_train, X_test, y_train, y_test = train_test_split(f_features, pima_df['class'], test_size=0.3, random_state=99999, shuffle=False)\n",
    "X_train = f_features[idx_train]\n",
    "y_train = df.iloc[idx_train, -1]\n",
    "X_test = f_features[idx_test]\n",
    "y_test = df.iloc[idx_test, -1]"
   ]
  },
  {
   "cell_type": "code",
   "execution_count": 58,
   "metadata": {},
   "outputs": [
    {
     "name": "stderr",
     "output_type": "stream",
     "text": [
      "/usr/local/lib/python3.6/site-packages/sklearn/linear_model/_logistic.py:765: ConvergenceWarning: lbfgs failed to converge (status=1):\n",
      "STOP: TOTAL NO. of ITERATIONS REACHED LIMIT.\n",
      "\n",
      "Increase the number of iterations (max_iter) or scale the data as shown in:\n",
      "    https://scikit-learn.org/stable/modules/preprocessing.html\n",
      "Please also refer to the documentation for alternative solver options:\n",
      "    https://scikit-learn.org/stable/modules/linear_model.html#logistic-regression\n",
      "  extra_warning_msg=_LOGISTIC_SOLVER_CONVERGENCE_MSG)\n"
     ]
    }
   ],
   "source": [
    "lr_clf = LogisticRegression()\n",
    "lr_clf.fit(X_train, y_train)\n",
    "pred = lr_clf.predict(X_test)\n",
    "pred_proba = lr_clf.predict_proba(X_test)[:, 1]"
   ]
  },
  {
   "cell_type": "code",
   "execution_count": 59,
   "metadata": {},
   "outputs": [
    {
     "name": "stdout",
     "output_type": "stream",
     "text": [
      "Accuracy: 0.935672514619883\n",
      "Confusion Matrix:\n",
      "[[ 57   6]\n",
      " [  5 103]]\n",
      "Precision: 0.944954128440367, Recall: 0.9537037037037037\n",
      "F1: 0.9493087557603688, AUC: 0.9860376249265138\n"
     ]
    }
   ],
   "source": [
    "get_clf_eval(y_test, pred, pred_proba)"
   ]
  },
  {
   "cell_type": "markdown",
   "metadata": {},
   "source": [
    "→ 예측 정확도 93%, 재현율 95%"
   ]
  },
  {
   "cell_type": "markdown",
   "metadata": {},
   "source": [
    "### 2. Wrapper Method"
   ]
  },
  {
   "cell_type": "markdown",
   "metadata": {},
   "source": [
    "- Forward Selection"
   ]
  },
  {
   "cell_type": "code",
   "execution_count": 23,
   "metadata": {},
   "outputs": [],
   "source": [
    "import statsmodels.api as sm\n",
    "from mlxtend.feature_selection import SequentialFeatureSelector as sfs\n",
    "from sklearn.ensemble import RandomForestRegressor"
   ]
  },
  {
   "cell_type": "code",
   "execution_count": 24,
   "metadata": {},
   "outputs": [
    {
     "name": "stderr",
     "output_type": "stream",
     "text": [
      "/usr/local/lib/python3.6/site-packages/numpy/core/_methods.py:234: RuntimeWarning: Degrees of freedom <= 0 for slice\n",
      "  keepdims=keepdims)\n",
      "/usr/local/lib/python3.6/site-packages/numpy/core/_methods.py:226: RuntimeWarning: invalid value encountered in double_scalars\n",
      "  ret = ret.dtype.type(ret / rcount)\n"
     ]
    },
    {
     "data": {
      "image/png": "[encoded data removed]",
      "text/plain": [
       "<Figure size 432x288 with 1 Axes>"
      ]
     },
     "metadata": {
      "needs_background": "light"
     },
     "output_type": "display_data"
    }
   ],
   "source": [
    "sfs1 = sfs(RandomForestRegressor(),\n",
    "         k_features=(3,11),\n",
    "         forward=True,\n",
    "         floating=False,\n",
    "         cv=0)\n",
    "sfs1.fit(df.iloc[:, :-1], df['class'])\n",
    "from mlxtend.plotting import plot_sequential_feature_selection as plot_sfs\n",
    "import matplotlib.pyplot as plt\n",
    "fig1 = plot_sfs(sfs1.get_metric_dict(), kind='std_dev')\n",
    "plt.title('Sequential Forward Selection (w. StdErr)')\n",
    "plt.grid()\n",
    "plt.show()"
   ]
  },
  {
   "cell_type": "code",
   "execution_count": 25,
   "metadata": {},
   "outputs": [
    {
     "name": "stderr",
     "output_type": "stream",
     "text": [
      "[Parallel(n_jobs=-1)]: Using backend LokyBackend with 4 concurrent workers.\n",
      "[Parallel(n_jobs=-1)]: Done  30 out of  30 | elapsed:    8.8s finished\n",
      "\n",
      "[2021-12-07 04:01:44] Features: 1/3 -- score: 0.5762132035820369[Parallel(n_jobs=-1)]: Using backend LokyBackend with 4 concurrent workers.\n",
      "[Parallel(n_jobs=-1)]: Done  29 out of  29 | elapsed:    7.6s finished\n",
      "\n",
      "[2021-12-07 04:01:52] Features: 2/3 -- score: 0.7545025276386091[Parallel(n_jobs=-1)]: Using backend LokyBackend with 4 concurrent workers.\n",
      "[Parallel(n_jobs=-1)]: Done  28 out of  28 | elapsed:    7.5s finished\n",
      "\n",
      "[2021-12-07 04:01:59] Features: 3/3 -- score: 0.7951306714086078"
     ]
    },
    {
     "data": {
      "text/plain": [
       "SequentialFeatureSelector(estimator=RandomForestRegressor(), k_features=3,\n",
       "                          n_jobs=-1, scoring='r2', verbose=2)"
      ]
     },
     "execution_count": 25,
     "metadata": {},
     "output_type": "execute_result"
    }
   ],
   "source": [
    "#SequentialFeatureSelector : forward & backward 가능하도록..\n",
    "#k_features=10 (It will get top 10 features best suited for prediction)\n",
    "#forward=True (Forward feature selection model)\n",
    "#verbose=2 (It will show details output as shown below.)\n",
    "#cv=5 (Kfold cross valiation: it will split the training set in 5 set and 4 will be using for training the model and 1 will using as validation)\n",
    "#n_jobs=-1 (Number of cores it will use for execution.-1 means it will use all the cores of CPU for execution.)\n",
    "#scoring='r2'(R-squared is a statistical measure of how close the data are to the fitted regression line)\n",
    "model=sfs(RandomForestRegressor(),k_features=3,forward=True,verbose=2,cv=5,n_jobs=-1,scoring='r2')\n",
    "model.fit(df.iloc[:, :-1],df['class'])"
   ]
  },
  {
   "cell_type": "code",
   "execution_count": 26,
   "metadata": {},
   "outputs": [
    {
     "data": {
      "text/plain": [
       "['worst texture', 'worst perimeter', 'worst smoothness']"
      ]
     },
     "execution_count": 26,
     "metadata": {},
     "output_type": "execute_result"
    }
   ],
   "source": [
    "list(model.k_feature_names_)"
   ]
  },
  {
   "cell_type": "code",
   "execution_count": 27,
   "metadata": {},
   "outputs": [],
   "source": [
    "X_train = df[list(model.k_feature_names_)].iloc[idx_train, :]\n",
    "y_train = df.iloc[idx_train, -1]\n",
    "X_test = df[list(model.k_feature_names_)].iloc[idx_test, :]\n",
    "y_test = df.iloc[idx_test, -1]"
   ]
  },
  {
   "cell_type": "code",
   "execution_count": 28,
   "metadata": {},
   "outputs": [],
   "source": [
    "lr_clf = LogisticRegression()\n",
    "lr_clf.fit(X_train, y_train)\n",
    "pred = lr_clf.predict(X_test)\n",
    "pred_proba = lr_clf.predict_proba(X_test)[:, 1]"
   ]
  },
  {
   "cell_type": "code",
   "execution_count": 29,
   "metadata": {},
   "outputs": [
    {
     "name": "stdout",
     "output_type": "stream",
     "text": [
      "Accuracy: 0.9473684210526315\n",
      "Confusion Matrix:\n",
      "[[ 57   6]\n",
      " [  3 105]]\n",
      "Precision: 0.9459459459459459, Recall: 0.9722222222222222\n",
      "F1: 0.9589041095890412, AUC: 0.9836860670194003\n"
     ]
    }
   ],
   "source": [
    "get_clf_eval(y_test, pred, pred_proba)"
   ]
  },
  {
   "cell_type": "markdown",
   "metadata": {},
   "source": [
    "→ 예측 정확도 94%, 재현율 97%"
   ]
  },
  {
   "cell_type": "code",
   "execution_count": null,
   "metadata": {},
   "outputs": [],
   "source": [
    "#정확도는 높지만 오래걸림..!"
   ]
  },
  {
   "cell_type": "markdown",
   "metadata": {},
   "source": [
    "### 3. Embedded Method"
   ]
  },
  {
   "cell_type": "markdown",
   "metadata": {},
   "source": [
    "- Lasso<br>\n",
    "L1 정규화를 수행하는데 계수의 크기의 절댓값과 동일한 패널티를 준다<br>\n",
    "https://rk1993.tistory.com/entry/Ridge-regression%EC%99%80-Lasso-regression-%EC%89%BD%EA%B2%8C-%EC%9D%B4%ED%95%B4%ED%95%98%EA%B8%B0"
   ]
  },
  {
   "cell_type": "code",
   "execution_count": 30,
   "metadata": {},
   "outputs": [],
   "source": [
    "from sklearn.linear_model import Lasso, LassoCV\n",
    "from sklearn.feature_selection import SelectFromModel"
   ]
  },
  {
   "cell_type": "code",
   "execution_count": 31,
   "metadata": {},
   "outputs": [
    {
     "name": "stdout",
     "output_type": "stream",
     "text": [
      "Best alpha using built-in LassoCV : 0.201830\n",
      "Best score using built-in LassoCV : 0.661795\n"
     ]
    }
   ],
   "source": [
    "reg = LassoCV()\n",
    "reg.fit(df.iloc[:, :-1], df['class'])\n",
    "print(\"Best alpha using built-in LassoCV : %f\"%reg.alpha_)\n",
    "print(\"Best score using built-in LassoCV : %f\"%reg.score(df.iloc[:, :-1], df['class']))\n",
    "coef = pd.Series(reg.coef_, index=df.columns[:-1])"
   ]
  },
  {
   "cell_type": "code",
   "execution_count": 32,
   "metadata": {},
   "outputs": [
    {
     "name": "stdout",
     "output_type": "stream",
     "text": [
      "Lasso picked 4 variables and eliminated the other 26 variables\n"
     ]
    }
   ],
   "source": [
    "print(\"Lasso picked \" + str(sum(coef!=0)) + \" variables and eliminated the other \"+str(sum(coef==0)) + \" variables\")"
   ]
  },
  {
   "cell_type": "code",
   "execution_count": 33,
   "metadata": {},
   "outputs": [],
   "source": [
    "from matplotlib.colors import Colormap\n",
    "palette = sns.color_palette(\"Spectral\", 30)"
   ]
  },
  {
   "cell_type": "code",
   "execution_count": 34,
   "metadata": {},
   "outputs": [
    {
     "data": {
      "text/plain": [
       "Text(0.5, 1.0, 'Feature importance using Lasso Model')"
      ]
     },
     "execution_count": 34,
     "metadata": {},
     "output_type": "execute_result"
    },
    {
     "data": {
      "image/png": "[encoded data removed]",
      "text/plain": [
       "<Figure size 1440x504 with 1 Axes>"
      ]
     },
     "metadata": {
      "needs_background": "light"
     },
     "output_type": "display_data"
    }
   ],
   "source": [
    "imp_coef = coef.sort_values()\n",
    "\n",
    "imp_coef.plot(kind='barh', color=palette, figsize=(20, 7))\n",
    "plt.title(\"Feature importance using Lasso Model\")"
   ]
  },
  {
   "cell_type": "code",
   "execution_count": 35,
   "metadata": {},
   "outputs": [
    {
     "name": "stdout",
     "output_type": "stream",
     "text": [
      "mean area\n",
      "worst texture\n",
      "worst perimeter\n",
      "worst area\n"
     ]
    }
   ],
   "source": [
    "for i in range(len(df.columns[:-1])):\n",
    "    if reg.coef_[i] != 0:\n",
    "        print(df.columns[:-1][i])"
   ]
  },
  {
   "cell_type": "code",
   "execution_count": 36,
   "metadata": {},
   "outputs": [],
   "source": [
    "X_train = df[['mean area', 'worst texture', 'worst perimeter', 'worst area']].iloc[idx_train, :]\n",
    "y_train = df.iloc[idx_train, -1]\n",
    "X_test = df[['mean area', 'worst texture', 'worst perimeter', 'worst area']].iloc[idx_test, :]\n",
    "y_test = df.iloc[idx_test, -1]"
   ]
  },
  {
   "cell_type": "code",
   "execution_count": 37,
   "metadata": {},
   "outputs": [],
   "source": [
    "lr_clf = LogisticRegression()\n",
    "lr_clf.fit(X_train, y_train)\n",
    "pred = lr_clf.predict(X_test)\n",
    "pred_proba = lr_clf.predict_proba(X_test)[:, 1]"
   ]
  },
  {
   "cell_type": "code",
   "execution_count": 38,
   "metadata": {},
   "outputs": [
    {
     "name": "stdout",
     "output_type": "stream",
     "text": [
      "Accuracy: 0.935672514619883\n",
      "Confusion Matrix:\n",
      "[[ 57   6]\n",
      " [  5 103]]\n",
      "Precision: 0.944954128440367, Recall: 0.9537037037037037\n",
      "F1: 0.9493087557603688, AUC: 0.9756025867136979\n"
     ]
    }
   ],
   "source": [
    "get_clf_eval(y_test, pred, pred_proba)"
   ]
  },
  {
   "cell_type": "markdown",
   "metadata": {},
   "source": [
    "→ 예측 정확도 93%, 재현율 95%"
   ]
  },
  {
   "cell_type": "code",
   "execution_count": null,
   "metadata": {},
   "outputs": [],
   "source": []
  },
  {
   "cell_type": "code",
   "execution_count": 39,
   "metadata": {},
   "outputs": [
    {
     "data": {
      "text/plain": [
       "array([0.04668862, 0.0179015 , 0.07509812, 0.03713493, 0.00684079,\n",
       "       0.0113968 , 0.05004714, 0.12625584, 0.00221578, 0.00251833,\n",
       "       0.0118738 , 0.00422505, 0.01160295, 0.04673657, 0.00289333,\n",
       "       0.00428261, 0.00339566, 0.0046773 , 0.00389147, 0.005334  ,\n",
       "       0.11459954, 0.0206941 , 0.10201607, 0.11237016, 0.01149947,\n",
       "       0.01751239, 0.03512757, 0.09258939, 0.01128659, 0.00729414])"
      ]
     },
     "execution_count": 39,
     "metadata": {},
     "output_type": "execute_result"
    }
   ],
   "source": [
    "#tree\n",
    "from sklearn.ensemble import RandomForestClassifier\n",
    "fmodel = RandomForestClassifier()\n",
    "fmodel.fit(df.iloc[:, :-1], df['class'])\n",
    "fmodel.feature_importances_"
   ]
  },
  {
   "cell_type": "code",
   "execution_count": 40,
   "metadata": {},
   "outputs": [
    {
     "data": {
      "text/plain": [
       "array([ True, False,  True,  True, False, False,  True,  True, False,\n",
       "       False, False, False, False,  True, False, False, False, False,\n",
       "       False, False,  True, False,  True,  True, False, False,  True,\n",
       "        True, False, False])"
      ]
     },
     "execution_count": 40,
     "metadata": {},
     "output_type": "execute_result"
    }
   ],
   "source": [
    "sel = SelectFromModel(estimator=fmodel, prefit=True, threshold='mean')\n",
    "sel.get_support()"
   ]
  },
  {
   "cell_type": "code",
   "execution_count": 41,
   "metadata": {},
   "outputs": [
    {
     "name": "stdout",
     "output_type": "stream",
     "text": [
      "mean radius\n",
      "mean perimeter\n",
      "mean area\n",
      "mean concavity\n",
      "mean concave points\n",
      "area error\n",
      "worst radius\n",
      "worst perimeter\n",
      "worst area\n",
      "worst concavity\n",
      "worst concave points\n"
     ]
    }
   ],
   "source": [
    "for i in range(len(df.columns[:-1])):\n",
    "    if sel.get_support()[i]:\n",
    "        print(df.columns[:-1][i])"
   ]
  },
  {
   "cell_type": "code",
   "execution_count": 42,
   "metadata": {},
   "outputs": [],
   "source": [
    "X_train = df.iloc[idx_train, [i for i, value in enumerate(list(sel.get_support())) if value]]\n",
    "y_train = df.iloc[idx_train, -1]\n",
    "X_test = df.iloc[idx_test, [i for i, value in enumerate(list(sel.get_support())) if value]]\n",
    "y_test = df.iloc[idx_test, -1]"
   ]
  },
  {
   "cell_type": "code",
   "execution_count": 43,
   "metadata": {},
   "outputs": [],
   "source": [
    "rd_clf = RandomForestClassifier()\n",
    "rd_clf.fit(X_train, y_train)\n",
    "pred = rd_clf.predict(X_test)\n",
    "pred_proba = rd_clf.predict_proba(X_test)[:, 1]"
   ]
  },
  {
   "cell_type": "code",
   "execution_count": 44,
   "metadata": {},
   "outputs": [
    {
     "name": "stdout",
     "output_type": "stream",
     "text": [
      "Accuracy: 0.9122807017543859\n",
      "Confusion Matrix:\n",
      "[[ 55   8]\n",
      " [  7 101]]\n",
      "Precision: 0.926605504587156, Recall: 0.9351851851851852\n",
      "F1: 0.9308755760368663, AUC: 0.9697236919459141\n"
     ]
    }
   ],
   "source": [
    "get_clf_eval(y_test, pred, pred_proba)"
   ]
  },
  {
   "cell_type": "markdown",
   "metadata": {},
   "source": [
    "→ 예측 정확도 91%, 재현율 93% <br>\n",
    "적은 feature로 비슷한 성능을 냄.."
   ]
  },
  {
   "cell_type": "code",
   "execution_count": null,
   "metadata": {},
   "outputs": [],
   "source": []
  },
  {
   "cell_type": "markdown",
   "metadata": {},
   "source": [
    "### PCA*\n",
    "번외.."
   ]
  },
  {
   "cell_type": "code",
   "execution_count": 45,
   "metadata": {},
   "outputs": [],
   "source": [
    "from sklearn.decomposition import PCA"
   ]
  },
  {
   "cell_type": "code",
   "execution_count": 46,
   "metadata": {},
   "outputs": [],
   "source": [
    "pca = PCA(n_components=2) # 주성분을 몇개로 할지 결정\n",
    "printcipalComponents = pca.fit_transform(df.iloc[:, :-1])\n",
    "principalDf = pd.DataFrame(data=printcipalComponents, columns = ['pc1', 'pc2'])"
   ]
  },
  {
   "cell_type": "code",
   "execution_count": 47,
   "metadata": {},
   "outputs": [
    {
     "data": {
      "text/plain": [
       "array([0.98204467, 0.01617649])"
      ]
     },
     "execution_count": 47,
     "metadata": {},
     "output_type": "execute_result"
    }
   ],
   "source": [
    "pca.explained_variance_ratio_ #주성분 2개로 98% 이상 설명가능 "
   ]
  },
  {
   "cell_type": "code",
   "execution_count": 48,
   "metadata": {},
   "outputs": [],
   "source": [
    "#X_train, X_test, y_train, y_test = train_test_split(principalDf, pima_df['class'], test_size=0.3, random_state=99999, shuffle=False)\n",
    "X_train = principalDf.iloc[idx_train, :]\n",
    "y_train = df.iloc[idx_train, -1]\n",
    "X_test = principalDf.iloc[idx_test, :]\n",
    "y_test = df.iloc[idx_test, -1]"
   ]
  },
  {
   "cell_type": "code",
   "execution_count": 49,
   "metadata": {},
   "outputs": [],
   "source": [
    "lr_clf = LogisticRegression()\n",
    "lr_clf.fit(X_train, y_train)\n",
    "pred = lr_clf.predict(X_test)\n",
    "pred_proba = lr_clf.predict_proba(X_test)[:, 1]"
   ]
  },
  {
   "cell_type": "code",
   "execution_count": 50,
   "metadata": {},
   "outputs": [
    {
     "name": "stdout",
     "output_type": "stream",
     "text": [
      "Accuracy: 0.9122807017543859\n",
      "Confusion Matrix:\n",
      "[[ 53  10]\n",
      " [  5 103]]\n",
      "Precision: 0.911504424778761, Recall: 0.9537037037037037\n",
      "F1: 0.9321266968325793, AUC: 0.969429747207525\n"
     ]
    }
   ],
   "source": [
    "get_clf_eval(y_test, pred, pred_proba)"
   ]
  },
  {
   "cell_type": "markdown",
   "metadata": {},
   "source": [
    "→ 예측 정확도 91%, 재현율 95%"
   ]
  },
  {
   "cell_type": "code",
   "execution_count": null,
   "metadata": {},
   "outputs": [],
   "source": [
    "#예측 정확도는 비슷하지만, 데이터가 많을 경우 학습 속도가 빨라질것..!"
   ]
  },
  {
   "cell_type": "markdown",
   "metadata": {},
   "source": [
    "## conclusion : feature selection/extractration에는 정해진 방법은 없다.. <br> → 데이터를 다양한 방법으로 handling하여 최적의 모델을 찾자...!"
   ]
  },
  {
   "cell_type": "code",
   "execution_count": null,
   "metadata": {},
   "outputs": [],
   "source": [
    "# 현재 데이터에 어떻게 활용할지는 데이터에 대한 탐색을 더 진행한 후에.."
   ]
  }
 ],
 "metadata": {
  "kernelspec": {
   "display_name": "Python 3",
   "language": "python",
   "name": "python3"
  },
  "language_info": {
   "codemirror_mode": {
    "name": "ipython",
    "version": 3
   },
   "file_extension": ".py",
   "mimetype": "text/x-python",
   "name": "python",
   "nbconvert_exporter": "python",
   "pygments_lexer": "ipython3",
   "version": "3.6.10"
  }
 },
 "nbformat": 4,
 "nbformat_minor": 4
}
